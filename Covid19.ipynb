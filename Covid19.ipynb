{
 "nbformat": 4,
 "nbformat_minor": 2,
 "metadata": {
  "language_info": {
   "name": "python",
   "codemirror_mode": {
    "name": "ipython",
    "version": 3
   },
   "version": "3.8.0-final"
  },
  "orig_nbformat": 2,
  "file_extension": ".py",
  "mimetype": "text/x-python",
  "name": "python",
  "npconvert_exporter": "python",
  "pygments_lexer": "ipython3",
  "version": 3,
  "kernelspec": {
   "name": "python38064bit380pyenvb80224ba6c4d4f5083e7c22274221947",
   "display_name": "Python 3.8.0 64-bit ('3.8.0': pyenv)"
  }
 },
 "cells": [
  {
   "cell_type": "code",
   "execution_count": null,
   "metadata": {},
   "outputs": [],
   "source": [
    "import numpy as np\n",
    "import pandas as pd\n",
    "import matplotlib.pyplot as plt\n",
    "import matplotlib.dates as mdates\n"
   ]
  },
  {
   "cell_type": "code",
   "execution_count": null,
   "metadata": {},
   "outputs": [],
   "source": [
    "# Url to retrieve data\n",
    "covid_url = (\n",
    "    \"https://www.data.gouv.fr/fr/datasets/r/0b66ca39-1623-4d9c-83ad-5434b7f9e2a4\"\n",
    ")"
   ]
  },
  {
   "cell_type": "code",
   "execution_count": null,
   "metadata": {},
   "outputs": [],
   "source": [
    "# Get Data\n",
    "df = pd.read_csv(covid_url, sep=\",\", usecols=['date','granularite', 'maille_nom', 'cas_confirmes', 'deces', 'source_type'], parse_dates=['date'])\n"
   ]
  },
  {
   "cell_type": "code",
   "execution_count": null,
   "metadata": {},
   "outputs": [],
   "source": [
    "# Display First rows\n",
    "df.head()"
   ]
  },
  {
   "cell_type": "code",
   "execution_count": null,
   "metadata": {},
   "outputs": [],
   "source": [
    "# Filter Data\n",
    "countries_and_confirmed_more100 = np.logical_and(np.logical_and(df[\"granularite\"] == \"pays\", df[\"cas_confirmes\"].notna()), df[\"cas_confirmes\"]> 100)\n",
    "data_national = df.loc[countries_and_confirmed_more100,:]\n",
    "data_national = data_national.drop_duplicates('date',keep='first')\n",
    "data_national"
   ]
  },
  {
   "cell_type": "code",
   "execution_count": null,
   "metadata": {},
   "outputs": [],
   "source": [
    "# Compute new cases\n",
    "cases = np.array((list(data_national[\"cas_confirmes\"])))\n",
    "new_cases = cases[1:] - cases[:-1]\n",
    "new_cases = np.insert(new_cases, 0, cases[0])"
   ]
  },
  {
   "cell_type": "code",
   "execution_count": null,
   "metadata": {},
   "outputs": [],
   "source": [
    "# Ajouter les nouveaux cas confirmes\n",
    "cpt = 0\n",
    "for lab, row in data_national.iterrows():\n",
    "    data_national.loc[lab, \"nouveaux_cas_confirmes\"] = new_cases[cpt]\n",
    "    cpt+=1"
   ]
  },
  {
   "cell_type": "code",
   "execution_count": null,
   "metadata": {},
   "outputs": [],
   "source": [
    "# Display new cases\n",
    "dfig, ax = plt.subplots()\n",
    "data_national.set_index('date',inplace=True)\n",
    "ax.bar(data_national.index, data_national[\"nouveaux_cas_confirmes\"])\n",
    "plt.xticks(rotation=90)\n",
    "plt.title(\"Evolution du nombre de nouveaux cas par jour\")"
   ]
  },
  {
   "cell_type": "code",
   "execution_count": null,
   "metadata": {},
   "outputs": [],
   "source": [
    "# Compute new cases\n",
    "deaths = np.array((list(data_national[\"deces\"])))\n",
    "new_deaths = deaths[1:] - deaths[:-1]\n",
    "new_deaths = np.insert(new_deaths, 0, deaths[0])"
   ]
  },
  {
   "cell_type": "code",
   "execution_count": null,
   "metadata": {},
   "outputs": [],
   "source": [
    "# Ajouter les nouveaux cas confirmes\n",
    "cpt = 0\n",
    "for lab, row in data_national.iterrows():\n",
    "    data_national.loc[lab, \"nouveaux_deces\"] = new_deaths[cpt]\n",
    "    cpt+=1"
   ]
  },
  {
   "cell_type": "code",
   "execution_count": null,
   "metadata": {},
   "outputs": [],
   "source": [
    "# Display new cases\n",
    "dfig, ax = plt.subplots()\n",
    "ax.bar(data_national.index, data_national[\"nouveaux_deces\"])\n",
    "plt.xticks(rotation=90)\n",
    "plt.title(\"Evolution du nombre de décès par jour\")"
   ]
  }
 ]
}