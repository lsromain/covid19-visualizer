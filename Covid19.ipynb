{
 "nbformat": 4,
 "nbformat_minor": 2,
 "metadata": {
  "language_info": {
   "name": "python",
   "codemirror_mode": {
    "name": "ipython",
    "version": 3
   },
   "version": "3.8.0-final"
  },
  "orig_nbformat": 2,
  "file_extension": ".py",
  "mimetype": "text/x-python",
  "name": "python",
  "npconvert_exporter": "python",
  "pygments_lexer": "ipython3",
  "version": 3,
  "kernelspec": {
   "name": "python38064bit380pyenvb80224ba6c4d4f5083e7c22274221947",
   "display_name": "Python 3.8.0 64-bit ('3.8.0': pyenv)"
  }
 },
 "cells": [
  {
   "cell_type": "code",
   "execution_count": 4,
   "metadata": {},
   "outputs": [],
   "source": [
    "import numpy as np\n",
    "import pandas as pd\n",
    "import matplotlib.pyplot as plt"
   ]
  },
  {
   "cell_type": "code",
   "execution_count": 5,
   "metadata": {},
   "outputs": [],
   "source": [
    "covid_url = (\n",
    "    \"https://www.data.gouv.fr/fr/datasets/r/0b66ca39-1623-4d9c-83ad-5434b7f9e2a4\"\n",
    ")"
   ]
  },
  {
   "cell_type": "code",
   "execution_count": 6,
   "metadata": {},
   "outputs": [],
   "source": [
    "df = pd.read_csv(covid_url, sep=\",\")\n"
   ]
  },
  {
   "cell_type": "code",
   "execution_count": 7,
   "metadata": {},
   "outputs": [
    {
     "name": "stdout",
     "output_type": "stream",
     "text": "date  granularite maille_code                  maille_nom  \\\n0     2020-01-24  departement      DEP-16                    Charente   \n1     2020-01-24  departement      DEP-17           Charente-Maritime   \n2     2020-01-24  departement      DEP-19                     Corrèze   \n3     2020-01-24  departement      DEP-23                      Creuse   \n4     2020-01-24  departement      DEP-24                    Dordogne   \n...          ...          ...         ...                         ...   \n5279  2020-04-04       region      REG-75          Nouvelle-Aquitaine   \n5280  2020-04-04       region      REG-76                   Occitanie   \n5281  2020-04-04       region      REG-84        Auvergne-Rhône-Alpes   \n5282  2020-04-04       region      REG-93  Provence-Alpes-Côte d'Azur   \n5283  2020-04-04       region      REG-94                       Corse   \n\n      cas_confirmes  deces  deces_ehpad  reanimation  hospitalises  gueris  \\\n0               0.0    NaN          NaN          NaN           NaN     NaN   \n1               0.0    NaN          NaN          NaN           NaN     NaN   \n2               0.0    NaN          NaN          NaN           NaN     NaN   \n3               0.0    NaN          NaN          NaN           NaN     NaN   \n4               0.0    NaN          NaN          NaN           NaN     NaN   \n...             ...    ...          ...          ...           ...     ...   \n5279            NaN  111.0          NaN        239.0         749.0   553.0   \n5280            NaN  148.0          NaN        328.0         997.0   709.0   \n5281            NaN  478.0          NaN        749.0        2874.0  1694.0   \n5282            NaN  178.0          NaN        417.0        1641.0  1272.0   \n5283            NaN   26.0          NaN         26.0          97.0   116.0   \n\n      depistes              source_nom  \\\n0          NaN  ARS Nouvelle-Aquitaine   \n1          NaN  ARS Nouvelle-Aquitaine   \n2          NaN  ARS Nouvelle-Aquitaine   \n3          NaN  ARS Nouvelle-Aquitaine   \n4          NaN  ARS Nouvelle-Aquitaine   \n...        ...                     ...   \n5279       NaN          OpenCOVID19-fr   \n5280       NaN          OpenCOVID19-fr   \n5281       NaN          OpenCOVID19-fr   \n5282       NaN          OpenCOVID19-fr   \n5283       NaN          OpenCOVID19-fr   \n\n                                             source_url source_archive  \\\n0     https://www.nouvelle-aquitaine.ars.sante.fr/co...            NaN   \n1     https://www.nouvelle-aquitaine.ars.sante.fr/co...            NaN   \n2     https://www.nouvelle-aquitaine.ars.sante.fr/co...            NaN   \n3     https://www.nouvelle-aquitaine.ars.sante.fr/co...            NaN   \n4     https://www.nouvelle-aquitaine.ars.sante.fr/co...            NaN   \n...                                                 ...            ...   \n5279                                                NaN            NaN   \n5280                                                NaN            NaN   \n5281                                                NaN            NaN   \n5282                                                NaN            NaN   \n5283                                                NaN            NaN   \n\n                   source_type  \n0     agences-regionales-sante  \n1     agences-regionales-sante  \n2     agences-regionales-sante  \n3     agences-regionales-sante  \n4     agences-regionales-sante  \n...                        ...  \n5279            opencovid19-fr  \n5280            opencovid19-fr  \n5281            opencovid19-fr  \n5282            opencovid19-fr  \n5283            opencovid19-fr  \n\n[5284 rows x 15 columns]\n"
    }
   ],
   "source": [
    "print(df)"
   ]
  },
  {
   "cell_type": "code",
   "execution_count": null,
   "metadata": {},
   "outputs": [],
   "source": []
  }
 ]
}